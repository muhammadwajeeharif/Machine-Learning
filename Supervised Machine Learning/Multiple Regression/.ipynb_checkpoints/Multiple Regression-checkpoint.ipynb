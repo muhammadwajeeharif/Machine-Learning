{
 "cells": [
  {
   "cell_type": "code",
   "execution_count": 14,
   "metadata": {},
   "outputs": [],
   "source": [
    "#import the libraries\n",
    "import numpy as np\n",
    "import matplotlib.pyplot as plt\n",
    "import pandas as pd"
   ]
  },
  {
   "cell_type": "code",
   "execution_count": 6,
   "metadata": {},
   "outputs": [],
   "source": [
    "#Import the data set from Desktop\n",
    "dataset = pd.read_csv('M_Regression.csv')\n",
    "X=dataset.iloc[:,:-1].values\n",
    "y=dataset.iloc[:,3].values"
   ]
  },
  {
   "cell_type": "code",
   "execution_count": 7,
   "metadata": {},
   "outputs": [],
   "source": [
    "#Training and Testing Data (divide the data into two part)\n",
    "from sklearn.model_selection import train_test_split\n",
    "X_train, X_test, y_train, y_test =train_test_split(X,y,test_size=0.3, random_state=0)\n"
   ]
  },
  {
   "cell_type": "code",
   "execution_count": 8,
   "metadata": {},
   "outputs": [
    {
     "data": {
      "text/plain": [
       "array([[130298.13, 145530.06, 323876.68],\n",
       "       [119943.24, 156547.42, 256512.92],\n",
       "       [  1000.23, 124153.04,   1903.93],\n",
       "       [   542.05,  51743.15,      0.  ],\n",
       "       [ 65605.48, 153032.06, 107138.38],\n",
       "       [114523.61, 122616.84, 261776.23],\n",
       "       [ 61994.48, 115641.28,  91131.24],\n",
       "       [ 63408.86, 129219.61,  46085.25],\n",
       "       [ 78013.11, 121597.55, 264346.06],\n",
       "       [ 23640.93,  96189.63, 148001.11],\n",
       "       [ 76253.86, 113867.3 , 298664.47],\n",
       "       [ 15505.73, 127382.3 ,  35534.17],\n",
       "       [120542.52, 148718.95, 311613.29],\n",
       "       [ 91992.39, 135495.07, 252664.93],\n",
       "       [ 64664.71, 139553.16, 137962.62],\n",
       "       [131876.9 ,  99814.71, 362861.36],\n",
       "       [ 94657.16, 145077.58, 282574.31],\n",
       "       [ 28754.33, 118546.05, 172795.67],\n",
       "       [     0.  , 116983.8 ,  45173.06],\n",
       "       [162597.7 , 151377.59, 443898.53],\n",
       "       [ 93863.75, 127320.38, 249839.44],\n",
       "       [ 44069.95,  51283.14, 197029.42],\n",
       "       [ 77044.01,  99281.34, 140574.81],\n",
       "       [134615.46, 147198.87, 127716.82],\n",
       "       [ 67532.53, 105751.03, 304768.73],\n",
       "       [ 28663.76, 127056.21, 201126.82],\n",
       "       [ 78389.47, 153773.43, 299737.29],\n",
       "       [ 86419.7 , 153514.11,      0.  ],\n",
       "       [123334.88, 108679.17, 304981.62],\n",
       "       [ 38558.51,  82982.09, 174999.3 ],\n",
       "       [  1315.46, 115816.21, 297114.46],\n",
       "       [144372.41, 118671.85, 383199.62],\n",
       "       [165349.2 , 136897.8 , 471784.1 ],\n",
       "       [     0.  , 135426.92,      0.  ],\n",
       "       [ 22177.74, 154806.14,  28334.72]])"
      ]
     },
     "execution_count": 8,
     "metadata": {},
     "output_type": "execute_result"
    }
   ],
   "source": [
    "X_train"
   ]
  },
  {
   "cell_type": "code",
   "execution_count": 9,
   "metadata": {},
   "outputs": [
    {
     "data": {
      "text/plain": [
       "array([155752.6 , 132602.65,  64926.08,  35673.41, 101004.64, 129917.04,\n",
       "        99937.59,  97427.84, 126992.93,  71498.49, 118474.03,  69758.98,\n",
       "       152211.77, 134307.35, 107404.34, 156991.12, 125370.37,  78239.91,\n",
       "        14681.4 , 191792.06, 141585.52,  89949.14, 108552.04, 156122.51,\n",
       "       108733.99,  90708.19, 111313.02, 122776.86, 149759.96,  81005.76,\n",
       "        49490.75, 182901.99, 192261.83,  42559.73,  65200.33])"
      ]
     },
     "execution_count": 9,
     "metadata": {},
     "output_type": "execute_result"
    }
   ],
   "source": [
    "y_train"
   ]
  },
  {
   "cell_type": "code",
   "execution_count": 10,
   "metadata": {},
   "outputs": [
    {
     "data": {
      "text/plain": [
       "LinearRegression()"
      ]
     },
     "execution_count": 10,
     "metadata": {},
     "output_type": "execute_result"
    }
   ],
   "source": [
    "#regression\n",
    "from sklearn.linear_model import LinearRegression\n",
    "reg = LinearRegression()\n",
    "reg.fit(X_train,y_train)"
   ]
  },
  {
   "cell_type": "code",
   "execution_count": 11,
   "metadata": {},
   "outputs": [],
   "source": [
    "#for predict the test values\n",
    "y_prdict=reg.predict(X_test)"
   ]
  },
  {
   "cell_type": "code",
   "execution_count": 12,
   "metadata": {},
   "outputs": [
    {
     "data": {
      "text/plain": [
       "array([104054.44293869, 132719.3459701 , 133640.26830949,  72294.76911458,\n",
       "       179685.62227843, 114508.97572031,  66305.23069863,  98297.69326565,\n",
       "       114277.91894933, 169112.36095691,  96257.40152149,  87916.97242208,\n",
       "       110687.33942598,  90670.8337806 , 127780.63539583])"
      ]
     },
     "execution_count": 12,
     "metadata": {},
     "output_type": "execute_result"
    }
   ],
   "source": [
    "y_prdict"
   ]
  },
  {
   "cell_type": "code",
   "execution_count": 13,
   "metadata": {},
   "outputs": [
    {
     "data": {
      "text/plain": [
       "array([103282.38, 144259.4 , 146121.95,  77798.83, 191050.39, 105008.31,\n",
       "        81229.06,  97483.56, 110352.25, 166187.94,  96778.92,  96479.51,\n",
       "       105733.54,  96712.8 , 124266.9 ])"
      ]
     },
     "execution_count": 13,
     "metadata": {},
     "output_type": "execute_result"
    }
   ],
   "source": [
    "y_test"
   ]
  },
  {
   "cell_type": "code",
   "execution_count": null,
   "metadata": {},
   "outputs": [],
   "source": []
  }
 ],
 "metadata": {
  "kernelspec": {
   "display_name": "Python 3",
   "language": "python",
   "name": "python3"
  },
  "language_info": {
   "codemirror_mode": {
    "name": "ipython",
    "version": 3
   },
   "file_extension": ".py",
   "mimetype": "text/x-python",
   "name": "python",
   "nbconvert_exporter": "python",
   "pygments_lexer": "ipython3",
   "version": "3.8.5"
  }
 },
 "nbformat": 4,
 "nbformat_minor": 4
}
